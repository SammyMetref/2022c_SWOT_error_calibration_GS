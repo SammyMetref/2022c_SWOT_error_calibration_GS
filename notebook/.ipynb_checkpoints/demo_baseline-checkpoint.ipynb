{
 "cells": [
  {
   "cell_type": "code",
   "execution_count": null,
   "id": "b382dbd3",
   "metadata": {},
   "outputs": [],
   "source": [
    "import os\n",
    "import glob\n",
    "import sys\n",
    "import numpy as np\n",
    "sys.path.append('..')\n",
    "from src.swot import *\n",
    "import warnings\n",
    "warnings.filterwarnings(\"ignore\")"
   ]
  },
  {
   "cell_type": "code",
   "execution_count": null,
   "id": "980aab26",
   "metadata": {},
   "outputs": [],
   "source": [
    "list_of_file = sorted(glob.glob('../data/eNATL60-BLB002/gomez/SWOT_L2_LR_Filtered_013_*.nc'))\n",
    "len(list_of_file)"
   ]
  },
  {
   "cell_type": "code",
   "execution_count": null,
   "id": "77541456",
   "metadata": {},
   "outputs": [],
   "source": [
    "output_dir = '../results/demo_beanchmark_swot_filtering_median'\n",
    "os.system(f'mkdir - p {output_dir}')"
   ]
  },
  {
   "cell_type": "code",
   "execution_count": null,
   "id": "773fdfc7",
   "metadata": {},
   "outputs": [],
   "source": []
  },
  {
   "cell_type": "code",
   "execution_count": null,
   "id": "15c8fe84",
   "metadata": {},
   "outputs": [],
   "source": [
    "swt = SwotTrack(list_of_file[0])"
   ]
  },
  {
   "cell_type": "code",
   "execution_count": null,
   "id": "ad2e1c0f",
   "metadata": {},
   "outputs": [],
   "source": [
    "swt.dset"
   ]
  },
  {
   "cell_type": "code",
   "execution_count": null,
   "id": "c7c3966d",
   "metadata": {},
   "outputs": [],
   "source": [
    "swt.apply_median_filter('simulated_noise_ssh_karin', 10, 'ssh_karin_filt')"
   ]
  },
  {
   "cell_type": "code",
   "execution_count": null,
   "id": "af063aa4",
   "metadata": {},
   "outputs": [],
   "source": [
    "swt.display_track()"
   ]
  },
  {
   "cell_type": "code",
   "execution_count": null,
   "id": "5dd56ae4",
   "metadata": {
    "scrolled": true
   },
   "outputs": [],
   "source": [
    "%%time\n",
    "### TODO Paralelize this loop\n",
    "for filename in list_of_file:\n",
    "    swt = SwotTrack(filename) \n",
    "    swt.apply_median_filter('simulated_noise_ssh_karin', 10, 'ssh_karin_filt')\n",
    "    output_filename = f'{output_dir}/{os.path.basename(filename)}'\n",
    "    swt.to_netcdf('all', output_filename)"
   ]
  },
  {
   "cell_type": "code",
   "execution_count": null,
   "id": "a6f94bf4",
   "metadata": {},
   "outputs": [],
   "source": []
  }
 ],
 "metadata": {
  "kernelspec": {
   "display_name": "env-dc-swot-filtering",
   "language": "python",
   "name": "env-dc-swot-filtering"
  },
  "language_info": {
   "codemirror_mode": {
    "name": "ipython",
    "version": 3
   },
   "file_extension": ".py",
   "mimetype": "text/x-python",
   "name": "python",
   "nbconvert_exporter": "python",
   "pygments_lexer": "ipython3",
   "version": "3.10.4"
  }
 },
 "nbformat": 4,
 "nbformat_minor": 5
}
