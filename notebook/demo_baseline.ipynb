{
 "cells": [
  {
   "cell_type": "code",
   "execution_count": null,
   "id": "6884ccdd",
   "metadata": {},
   "outputs": [],
   "source": [
    "import os\n",
    "import glob\n",
    "import sys\n",
    "import numpy as np\n",
    "sys.path.append('..')\n",
    "from src.swot import *\n",
    "import warnings\n",
    "warnings.filterwarnings(\"ignore\")"
   ]
  },
  {
   "cell_type": "code",
   "execution_count": null,
   "id": "98f87017",
   "metadata": {},
   "outputs": [],
   "source": [
    "list_of_file = sorted(glob.glob('../data/eNATL60-BLB002/gomez/SWOT_L2_LR_Filtered_013_*.nc'))\n",
    "len(list_of_file)"
   ]
  },
  {
   "cell_type": "code",
   "execution_count": null,
   "id": "92936315",
   "metadata": {},
   "outputs": [],
   "source": [
    "output_dir = '../results/demo_beanchmark_swot_filtering_median'\n",
    "os.system(f'mkdir - p {output_dir}')"
   ]
  },
  {
   "cell_type": "code",
   "execution_count": null,
   "id": "ed630af8",
   "metadata": {},
   "outputs": [],
   "source": []
  },
  {
   "cell_type": "code",
   "execution_count": null,
   "id": "5095e910",
   "metadata": {},
   "outputs": [],
   "source": [
    "swt = SwotTrack(list_of_file[0])"
   ]
  },
  {
   "cell_type": "code",
   "execution_count": null,
   "id": "86cca22a",
   "metadata": {},
   "outputs": [],
   "source": [
    "swt.dset"
   ]
  },
  {
   "cell_type": "code",
   "execution_count": null,
   "id": "6187475b",
   "metadata": {},
   "outputs": [],
   "source": [
    "swt.apply_median_filter('simulated_noise_ssh_karin', 10, 'ssh_karin_filt')"
   ]
  },
  {
   "cell_type": "code",
   "execution_count": null,
   "id": "5b342f1a",
   "metadata": {},
   "outputs": [],
   "source": [
    "swt.display_track()"
   ]
  },
  {
   "cell_type": "code",
   "execution_count": null,
   "id": "d94092d4",
   "metadata": {
    "scrolled": true
   },
   "outputs": [],
   "source": [
    "%%time\n",
    "### TODO Paralelize this loop\n",
    "for filename in list_of_file:\n",
    "    swt = SwotTrack(filename) \n",
    "    swt.apply_median_filter('simulated_noise_ssh_karin', 10, 'ssh_karin_filt')\n",
    "    output_filename = f'{output_dir}/{os.path.basename(filename)}'\n",
    "    swt.to_netcdf('all', output_filename)"
   ]
  },
  {
   "cell_type": "code",
   "execution_count": null,
   "id": "03cc88eb",
   "metadata": {},
   "outputs": [],
   "source": []
  }
 ],
 "metadata": {
  "kernelspec": {
   "display_name": "Python (env-dc-swot-filtering)",
   "language": "python",
   "name": "env-dc-swot-filtering"
  },
  "language_info": {
   "codemirror_mode": {
    "name": "ipython",
    "version": 3
   },
   "file_extension": ".py",
   "mimetype": "text/x-python",
   "name": "python",
   "nbconvert_exporter": "python",
   "pygments_lexer": "ipython3",
   "version": "3.10.4"
  }
 },
 "nbformat": 4,
 "nbformat_minor": 5
}
