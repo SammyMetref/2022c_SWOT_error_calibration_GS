{
 "cells": [
  {
   "cell_type": "markdown",
   "id": "e47a02a4",
   "metadata": {},
   "source": [
    "![header](../figures/logos_partenaires._cmems_se.jpg)"
   ]
  },
  {
   "cell_type": "markdown",
   "id": "dda1d278",
   "metadata": {},
   "source": [
    "# Baseline for SWOT error calibration\n",
    "\n",
    "<div style=\"text-align: right\"><i> 2022-08-24 DEMO_BASELINE </i></div>\n",
    "\n",
    "***\n",
    "**Authors:**  Datlas, IGE, IMT-Atlantique & CLS <br>\n",
    "**Copyright:** 2022 Datlas, IGE, IMT-Atlantique & CLS <br>\n",
    "**License:** MIT\n",
    "\n",
    "<div class=\"alert alert-block alert-success\">\n",
    "<h1><center>Baseline of across track slope removing</center></h1></div>"
   ]
  },
  {
   "cell_type": "code",
   "execution_count": 1,
   "id": "106a0b58",
   "metadata": {},
   "outputs": [],
   "source": [
    "import os\n",
    "import glob\n",
    "import sys\n",
    "import numpy as np\n",
    "sys.path.append('..')\n",
    "from src.swot import *\n",
    "import warnings\n",
    "warnings.filterwarnings(\"ignore\")"
   ]
  },
  {
   "cell_type": "markdown",
   "id": "4e99103e",
   "metadata": {},
   "source": [
    "<div class=\"alert alert-info\" role=\"alert\">\n",
    "\n",
    "<h2>1. Downloading data challenge inputs </h2>\n",
    "\n",
    "</div>"
   ]
  },
  {
   "cell_type": "code",
   "execution_count": 2,
   "id": "3bfca83b",
   "metadata": {},
   "outputs": [],
   "source": [
    "# Check if inputs have already been downloaded otherwise do\n",
    "if len(os.listdir('../inputs'))<2:\n",
    "    # Get pseuso-observation\n",
    "    print('Downloading and unzipping inputs')\n",
    "    !wget https://ige-meom-opendap.univ-grenoble-alpes.fr/thredds/fileServer/meomopendap/extract/ocean-data-challenges/2022c_SWOT_error_calibration_GS/dc_SWOTcalibGS_inputs.tar.gz\n",
    "    !tar -xvf dc_SWOTcalibGS_inputs.tar.gz dc_SWOTcalibGS_inputs    \n",
    "    !mv dc_SWOTcalibGS_inputs  ../inputs/    \n",
    "    !rm dc_SWOTcalibGS_inputs.tar.gz "
   ]
  },
  {
   "cell_type": "code",
   "execution_count": 3,
   "id": "5a6528da",
   "metadata": {},
   "outputs": [],
   "source": [
    "list_of_file_inputs = sorted(glob.glob('../inputs/dc_SWOTcalibGS_inputs/dc_SWOTcalibGS_input_pass*.nc')) "
   ]
  },
  {
   "cell_type": "markdown",
   "id": "b599f73f",
   "metadata": {},
   "source": [
    "<div class=\"alert alert-info\" role=\"alert\">\n",
    "\n",
    "<h2>2. Preping experiment paths and repositories </h2>\n",
    "\n",
    "</div>"
   ]
  },
  {
   "cell_type": "code",
   "execution_count": 4,
   "id": "1b67148e",
   "metadata": {
    "scrolled": true
   },
   "outputs": [],
   "source": [
    "output_dir = '../results/demo_baseline0'\n",
    "__ = os.system(f'mkdir -p {output_dir}')"
   ]
  },
  {
   "cell_type": "markdown",
   "id": "d6334025",
   "metadata": {},
   "source": [
    "<div class=\"alert alert-info\" role=\"alert\">\n",
    "\n",
    "<h2>3. Calibrating SWOT data with baseline </h2>\n",
    "\n",
    "<h3>Baseline: removing the averaged across-track slope </h3>\n",
    "\n",
    "\n",
    "</div>"
   ]
  },
  {
   "cell_type": "code",
   "execution_count": 5,
   "id": "dfa153a5",
   "metadata": {
    "scrolled": false
   },
   "outputs": [
    {
     "name": "stdout",
     "output_type": "stream",
     "text": [
      "../inputs/dc_SWOTcalibGS_inputs/dc_SWOTcalibGS_input_pass02.nc\n",
      "../inputs/dc_SWOTcalibGS_inputs/dc_SWOTcalibGS_input_pass03.nc\n",
      "../inputs/dc_SWOTcalibGS_inputs/dc_SWOTcalibGS_input_pass04.nc\n",
      "../inputs/dc_SWOTcalibGS_inputs/dc_SWOTcalibGS_input_pass05.nc\n",
      "../inputs/dc_SWOTcalibGS_inputs/dc_SWOTcalibGS_input_pass06.nc\n",
      "../inputs/dc_SWOTcalibGS_inputs/dc_SWOTcalibGS_input_pass07.nc\n",
      "../inputs/dc_SWOTcalibGS_inputs/dc_SWOTcalibGS_input_pass12.nc\n",
      "../inputs/dc_SWOTcalibGS_inputs/dc_SWOTcalibGS_input_pass13.nc\n",
      "../inputs/dc_SWOTcalibGS_inputs/dc_SWOTcalibGS_input_pass14.nc\n",
      "../inputs/dc_SWOTcalibGS_inputs/dc_SWOTcalibGS_input_pass15.nc\n",
      "../inputs/dc_SWOTcalibGS_inputs/dc_SWOTcalibGS_input_pass16.nc\n",
      "../inputs/dc_SWOTcalibGS_inputs/dc_SWOTcalibGS_input_pass17.nc\n",
      "../inputs/dc_SWOTcalibGS_inputs/dc_SWOTcalibGS_input_pass22.nc\n",
      "../inputs/dc_SWOTcalibGS_inputs/dc_SWOTcalibGS_input_pass23.nc\n",
      "../inputs/dc_SWOTcalibGS_inputs/dc_SWOTcalibGS_input_pass24.nc\n",
      "../inputs/dc_SWOTcalibGS_inputs/dc_SWOTcalibGS_input_pass25.nc\n",
      "../inputs/dc_SWOTcalibGS_inputs/dc_SWOTcalibGS_input_pass26.nc\n",
      "../inputs/dc_SWOTcalibGS_inputs/dc_SWOTcalibGS_input_pass27.nc\n",
      "../inputs/dc_SWOTcalibGS_inputs/dc_SWOTcalibGS_input_pass32.nc\n",
      "../inputs/dc_SWOTcalibGS_inputs/dc_SWOTcalibGS_input_pass33.nc\n",
      "../inputs/dc_SWOTcalibGS_inputs/dc_SWOTcalibGS_input_pass34.nc\n",
      "../inputs/dc_SWOTcalibGS_inputs/dc_SWOTcalibGS_input_pass35.nc\n",
      "../inputs/dc_SWOTcalibGS_inputs/dc_SWOTcalibGS_input_pass36.nc\n",
      "../inputs/dc_SWOTcalibGS_inputs/dc_SWOTcalibGS_input_pass37.nc\n",
      "CPU times: user 4.88 s, sys: 284 ms, total: 5.16 s\n",
      "Wall time: 6.71 s\n"
     ]
    }
   ],
   "source": [
    "%%time\n",
    "\n",
    "### Loop over each SWOT pass\n",
    "for filename in list_of_file_inputs:\n",
    "    print(filename)\n",
    "    swt = SwotTrack(filename)  \n",
    "    swt.apply_ac_track_slope_calib0('ssh_err', 'ssh_err_calib')\n",
    "    output_filename = f'{output_dir}/{os.path.basename(filename)}'\n",
    "    swt.to_netcdf('all', output_filename)"
   ]
  },
  {
   "cell_type": "code",
   "execution_count": null,
   "id": "35f8a1c0",
   "metadata": {},
   "outputs": [],
   "source": []
  }
 ],
 "metadata": {
  "kernelspec": {
   "display_name": "env-dc-swot-filtering",
   "language": "python",
   "name": "env-dc-swot-filtering"
  },
  "language_info": {
   "codemirror_mode": {
    "name": "ipython",
    "version": 3
   },
   "file_extension": ".py",
   "mimetype": "text/x-python",
   "name": "python",
   "nbconvert_exporter": "python",
   "pygments_lexer": "ipython3",
   "version": "3.10.4"
  }
 },
 "nbformat": 4,
 "nbformat_minor": 5
}
